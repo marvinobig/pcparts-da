{
 "cells": [
  {
   "cell_type": "code",
   "execution_count": 355,
   "metadata": {},
   "outputs": [],
   "source": [
    "import pandas as pd\n",
    "import matplotlib.pyplot as plt"
   ]
  },
  {
   "cell_type": "code",
   "execution_count": 356,
   "metadata": {},
   "outputs": [],
   "source": [
    "pd.set_option('display.float_format', '{:,.2f}'.format)\n",
    "pd.set_option('mode.chained_assignment', None)"
   ]
  },
  {
   "cell_type": "markdown",
   "metadata": {},
   "source": [
    "#### Import dataset"
   ]
  },
  {
   "cell_type": "code",
   "execution_count": 357,
   "metadata": {},
   "outputs": [],
   "source": [
    "sales_data = pd.read_csv(\"pc_parts_sales.csv\")"
   ]
  },
  {
   "cell_type": "markdown",
   "metadata": {},
   "source": [
    "#### Descriptive statistics"
   ]
  },
  {
   "cell_type": "code",
   "execution_count": 358,
   "metadata": {},
   "outputs": [
    {
     "data": {
      "text/html": [
       "<div>\n",
       "<style scoped>\n",
       "    .dataframe tbody tr th:only-of-type {\n",
       "        vertical-align: middle;\n",
       "    }\n",
       "\n",
       "    .dataframe tbody tr th {\n",
       "        vertical-align: top;\n",
       "    }\n",
       "\n",
       "    .dataframe thead th {\n",
       "        text-align: right;\n",
       "    }\n",
       "</style>\n",
       "<table border=\"1\" class=\"dataframe\">\n",
       "  <thead>\n",
       "    <tr style=\"text-align: right;\">\n",
       "      <th></th>\n",
       "      <th>order_id</th>\n",
       "      <th>product</th>\n",
       "      <th>quantity_ordered</th>\n",
       "      <th>price_each</th>\n",
       "      <th>order_date</th>\n",
       "      <th>purchase_address_city</th>\n",
       "      <th>purchase_address_country</th>\n",
       "    </tr>\n",
       "  </thead>\n",
       "  <tbody>\n",
       "    <tr>\n",
       "      <th>0</th>\n",
       "      <td>OP89504310</td>\n",
       "      <td>HDD</td>\n",
       "      <td>3.32</td>\n",
       "      <td>61.03</td>\n",
       "      <td>12/12/2023</td>\n",
       "      <td>Chicago</td>\n",
       "      <td>United States</td>\n",
       "    </tr>\n",
       "    <tr>\n",
       "      <th>1</th>\n",
       "      <td>IP83558271</td>\n",
       "      <td>Keyboard</td>\n",
       "      <td>4.35</td>\n",
       "      <td>66.18</td>\n",
       "      <td>07/21/2024</td>\n",
       "      <td>Berlin</td>\n",
       "      <td>Germany</td>\n",
       "    </tr>\n",
       "    <tr>\n",
       "      <th>2</th>\n",
       "      <td>FW46738968</td>\n",
       "      <td>Case</td>\n",
       "      <td>8.36</td>\n",
       "      <td>308.57</td>\n",
       "      <td>07/15/2024</td>\n",
       "      <td>Mobile</td>\n",
       "      <td>United States</td>\n",
       "    </tr>\n",
       "    <tr>\n",
       "      <th>3</th>\n",
       "      <td>HJ32275080</td>\n",
       "      <td>SSD</td>\n",
       "      <td>9.31</td>\n",
       "      <td>135.44</td>\n",
       "      <td>02/14/2024</td>\n",
       "      <td>Wilmington</td>\n",
       "      <td>United States</td>\n",
       "    </tr>\n",
       "    <tr>\n",
       "      <th>4</th>\n",
       "      <td>XC48442442</td>\n",
       "      <td>Wireless Adapter</td>\n",
       "      <td>1.89</td>\n",
       "      <td>339.28</td>\n",
       "      <td>07/03/2024</td>\n",
       "      <td>Dillenburg</td>\n",
       "      <td>Germany</td>\n",
       "    </tr>\n",
       "    <tr>\n",
       "      <th>5</th>\n",
       "      <td>XA53374264</td>\n",
       "      <td>Power Supply</td>\n",
       "      <td>9.23</td>\n",
       "      <td>NaN</td>\n",
       "      <td>07/12/2024</td>\n",
       "      <td>Carson City</td>\n",
       "      <td>United States</td>\n",
       "    </tr>\n",
       "    <tr>\n",
       "      <th>6</th>\n",
       "      <td>YA03838812</td>\n",
       "      <td>Motherboard</td>\n",
       "      <td>4.53</td>\n",
       "      <td>183.58</td>\n",
       "      <td>11/20/2023</td>\n",
       "      <td>Oklahoma City</td>\n",
       "      <td>United States</td>\n",
       "    </tr>\n",
       "    <tr>\n",
       "      <th>7</th>\n",
       "      <td>TJ99372180</td>\n",
       "      <td>Microphone</td>\n",
       "      <td>5.16</td>\n",
       "      <td>22.38</td>\n",
       "      <td>12/25/2023</td>\n",
       "      <td>San Jose</td>\n",
       "      <td>United States</td>\n",
       "    </tr>\n",
       "    <tr>\n",
       "      <th>8</th>\n",
       "      <td>HW73990535</td>\n",
       "      <td>Cooling Fan</td>\n",
       "      <td>2.73</td>\n",
       "      <td>123.03</td>\n",
       "      <td>04/29/2024</td>\n",
       "      <td>Dresden</td>\n",
       "      <td>Germany</td>\n",
       "    </tr>\n",
       "    <tr>\n",
       "      <th>9</th>\n",
       "      <td>CD90844685</td>\n",
       "      <td>Power Supply</td>\n",
       "      <td>1.54</td>\n",
       "      <td>21.14</td>\n",
       "      <td>04/08/2024</td>\n",
       "      <td>Pittsburgh</td>\n",
       "      <td>United States</td>\n",
       "    </tr>\n",
       "  </tbody>\n",
       "</table>\n",
       "</div>"
      ],
      "text/plain": [
       "     order_id           product  quantity_ordered  price_each  order_date  \\\n",
       "0  OP89504310               HDD              3.32       61.03  12/12/2023   \n",
       "1  IP83558271          Keyboard              4.35       66.18  07/21/2024   \n",
       "2  FW46738968              Case              8.36      308.57  07/15/2024   \n",
       "3  HJ32275080               SSD              9.31      135.44  02/14/2024   \n",
       "4  XC48442442  Wireless Adapter              1.89      339.28  07/03/2024   \n",
       "5  XA53374264      Power Supply              9.23         NaN  07/12/2024   \n",
       "6  YA03838812       Motherboard              4.53      183.58  11/20/2023   \n",
       "7  TJ99372180        Microphone              5.16       22.38  12/25/2023   \n",
       "8  HW73990535       Cooling Fan              2.73      123.03  04/29/2024   \n",
       "9  CD90844685      Power Supply              1.54       21.14  04/08/2024   \n",
       "\n",
       "  purchase_address_city purchase_address_country  \n",
       "0               Chicago            United States  \n",
       "1                Berlin                  Germany  \n",
       "2                Mobile            United States  \n",
       "3            Wilmington            United States  \n",
       "4            Dillenburg                  Germany  \n",
       "5           Carson City            United States  \n",
       "6         Oklahoma City            United States  \n",
       "7              San Jose            United States  \n",
       "8               Dresden                  Germany  \n",
       "9            Pittsburgh            United States  "
      ]
     },
     "execution_count": 358,
     "metadata": {},
     "output_type": "execute_result"
    }
   ],
   "source": [
    "sales_data.head(10)"
   ]
  },
  {
   "cell_type": "code",
   "execution_count": 359,
   "metadata": {},
   "outputs": [
    {
     "data": {
      "text/html": [
       "<div>\n",
       "<style scoped>\n",
       "    .dataframe tbody tr th:only-of-type {\n",
       "        vertical-align: middle;\n",
       "    }\n",
       "\n",
       "    .dataframe tbody tr th {\n",
       "        vertical-align: top;\n",
       "    }\n",
       "\n",
       "    .dataframe thead th {\n",
       "        text-align: right;\n",
       "    }\n",
       "</style>\n",
       "<table border=\"1\" class=\"dataframe\">\n",
       "  <thead>\n",
       "    <tr style=\"text-align: right;\">\n",
       "      <th></th>\n",
       "      <th>quantity_ordered</th>\n",
       "      <th>price_each</th>\n",
       "    </tr>\n",
       "  </thead>\n",
       "  <tbody>\n",
       "    <tr>\n",
       "      <th>count</th>\n",
       "      <td>1,000.00</td>\n",
       "      <td>927.00</td>\n",
       "    </tr>\n",
       "    <tr>\n",
       "      <th>mean</th>\n",
       "      <td>5.48</td>\n",
       "      <td>206.65</td>\n",
       "    </tr>\n",
       "    <tr>\n",
       "      <th>std</th>\n",
       "      <td>2.57</td>\n",
       "      <td>110.55</td>\n",
       "    </tr>\n",
       "    <tr>\n",
       "      <th>min</th>\n",
       "      <td>1.03</td>\n",
       "      <td>20.85</td>\n",
       "    </tr>\n",
       "    <tr>\n",
       "      <th>25%</th>\n",
       "      <td>3.32</td>\n",
       "      <td>109.87</td>\n",
       "    </tr>\n",
       "    <tr>\n",
       "      <th>50%</th>\n",
       "      <td>5.45</td>\n",
       "      <td>204.35</td>\n",
       "    </tr>\n",
       "    <tr>\n",
       "      <th>75%</th>\n",
       "      <td>7.58</td>\n",
       "      <td>305.52</td>\n",
       "    </tr>\n",
       "    <tr>\n",
       "      <th>max</th>\n",
       "      <td>9.99</td>\n",
       "      <td>399.58</td>\n",
       "    </tr>\n",
       "  </tbody>\n",
       "</table>\n",
       "</div>"
      ],
      "text/plain": [
       "       quantity_ordered  price_each\n",
       "count          1,000.00      927.00\n",
       "mean               5.48      206.65\n",
       "std                2.57      110.55\n",
       "min                1.03       20.85\n",
       "25%                3.32      109.87\n",
       "50%                5.45      204.35\n",
       "75%                7.58      305.52\n",
       "max                9.99      399.58"
      ]
     },
     "execution_count": 359,
     "metadata": {},
     "output_type": "execute_result"
    }
   ],
   "source": [
    "sales_data.describe()"
   ]
  },
  {
   "cell_type": "markdown",
   "metadata": {},
   "source": [
    "#### Data cleaning"
   ]
  },
  {
   "cell_type": "code",
   "execution_count": 360,
   "metadata": {},
   "outputs": [
    {
     "data": {
      "text/html": [
       "<div>\n",
       "<style scoped>\n",
       "    .dataframe tbody tr th:only-of-type {\n",
       "        vertical-align: middle;\n",
       "    }\n",
       "\n",
       "    .dataframe tbody tr th {\n",
       "        vertical-align: top;\n",
       "    }\n",
       "\n",
       "    .dataframe thead th {\n",
       "        text-align: right;\n",
       "    }\n",
       "</style>\n",
       "<table border=\"1\" class=\"dataframe\">\n",
       "  <thead>\n",
       "    <tr style=\"text-align: right;\">\n",
       "      <th></th>\n",
       "      <th>order_id</th>\n",
       "      <th>product</th>\n",
       "      <th>quantity_ordered</th>\n",
       "      <th>price_each</th>\n",
       "      <th>order_date</th>\n",
       "      <th>purchase_address_city</th>\n",
       "      <th>purchase_address_country</th>\n",
       "    </tr>\n",
       "  </thead>\n",
       "  <tbody>\n",
       "    <tr>\n",
       "      <th>0</th>\n",
       "      <td>OP89504310</td>\n",
       "      <td>HDD</td>\n",
       "      <td>3.32</td>\n",
       "      <td>61.03</td>\n",
       "      <td>12/12/2023</td>\n",
       "      <td>Chicago</td>\n",
       "      <td>United States</td>\n",
       "    </tr>\n",
       "    <tr>\n",
       "      <th>1</th>\n",
       "      <td>IP83558271</td>\n",
       "      <td>Keyboard</td>\n",
       "      <td>4.35</td>\n",
       "      <td>66.18</td>\n",
       "      <td>07/21/2024</td>\n",
       "      <td>Berlin</td>\n",
       "      <td>Germany</td>\n",
       "    </tr>\n",
       "    <tr>\n",
       "      <th>2</th>\n",
       "      <td>FW46738968</td>\n",
       "      <td>Case</td>\n",
       "      <td>8.36</td>\n",
       "      <td>308.57</td>\n",
       "      <td>07/15/2024</td>\n",
       "      <td>Mobile</td>\n",
       "      <td>United States</td>\n",
       "    </tr>\n",
       "    <tr>\n",
       "      <th>3</th>\n",
       "      <td>HJ32275080</td>\n",
       "      <td>SSD</td>\n",
       "      <td>9.31</td>\n",
       "      <td>135.44</td>\n",
       "      <td>02/14/2024</td>\n",
       "      <td>Wilmington</td>\n",
       "      <td>United States</td>\n",
       "    </tr>\n",
       "  </tbody>\n",
       "</table>\n",
       "</div>"
      ],
      "text/plain": [
       "     order_id   product  quantity_ordered  price_each  order_date  \\\n",
       "0  OP89504310       HDD              3.32       61.03  12/12/2023   \n",
       "1  IP83558271  Keyboard              4.35       66.18  07/21/2024   \n",
       "2  FW46738968      Case              8.36      308.57  07/15/2024   \n",
       "3  HJ32275080       SSD              9.31      135.44  02/14/2024   \n",
       "\n",
       "  purchase_address_city purchase_address_country  \n",
       "0               Chicago            United States  \n",
       "1                Berlin                  Germany  \n",
       "2                Mobile            United States  \n",
       "3            Wilmington            United States  "
      ]
     },
     "execution_count": 360,
     "metadata": {},
     "output_type": "execute_result"
    }
   ],
   "source": [
    "sales_data_cleaned = sales_data[['product', 'quantity_ordered', 'price_each', 'order_date', 'purchase_address_city', 'purchase_address_country']]\n",
    "sales_data.head(4)"
   ]
  },
  {
   "cell_type": "code",
   "execution_count": 361,
   "metadata": {},
   "outputs": [
    {
     "data": {
      "text/plain": [
       "product                      0\n",
       "quantity_ordered             0\n",
       "price_each                  73\n",
       "order_date                   0\n",
       "purchase_address_city       67\n",
       "purchase_address_country    54\n",
       "dtype: int64"
      ]
     },
     "execution_count": 361,
     "metadata": {},
     "output_type": "execute_result"
    }
   ],
   "source": [
    "sales_data_cleaned.isnull().sum()"
   ]
  },
  {
   "cell_type": "code",
   "execution_count": 362,
   "metadata": {},
   "outputs": [],
   "source": [
    "sales_data_cleaned.dropna(inplace=True)"
   ]
  },
  {
   "cell_type": "code",
   "execution_count": 363,
   "metadata": {},
   "outputs": [],
   "source": [
    "sales_data_cleaned['quantity_ordered'] = sales_data_cleaned['quantity_ordered'].round().astype(int)"
   ]
  },
  {
   "cell_type": "code",
   "execution_count": 364,
   "metadata": {},
   "outputs": [],
   "source": [
    "sales_data_cleaned['total_price'] = sales_data_cleaned['price_each'] * sales_data_cleaned['quantity_ordered']"
   ]
  },
  {
   "cell_type": "code",
   "execution_count": 365,
   "metadata": {},
   "outputs": [],
   "source": [
    "sales_data_cleaned['order_date'] = pd.to_datetime(sales_data_cleaned['order_date'])"
   ]
  },
  {
   "cell_type": "code",
   "execution_count": 366,
   "metadata": {},
   "outputs": [
    {
     "name": "stdout",
     "output_type": "stream",
     "text": [
      "Number of dropped rows: 184\n"
     ]
    }
   ],
   "source": [
    "print(f\"Number of dropped rows: {len(sales_data.axes[0]) - len(sales_data_cleaned.axes[0])}\")"
   ]
  },
  {
   "cell_type": "code",
   "execution_count": 367,
   "metadata": {},
   "outputs": [
    {
     "data": {
      "text/plain": [
       "product                     0\n",
       "quantity_ordered            0\n",
       "price_each                  0\n",
       "order_date                  0\n",
       "purchase_address_city       0\n",
       "purchase_address_country    0\n",
       "total_price                 0\n",
       "dtype: int64"
      ]
     },
     "execution_count": 367,
     "metadata": {},
     "output_type": "execute_result"
    }
   ],
   "source": [
    "sales_data_cleaned.isnull().sum()"
   ]
  },
  {
   "cell_type": "code",
   "execution_count": 368,
   "metadata": {},
   "outputs": [
    {
     "data": {
      "text/html": [
       "<div>\n",
       "<style scoped>\n",
       "    .dataframe tbody tr th:only-of-type {\n",
       "        vertical-align: middle;\n",
       "    }\n",
       "\n",
       "    .dataframe tbody tr th {\n",
       "        vertical-align: top;\n",
       "    }\n",
       "\n",
       "    .dataframe thead th {\n",
       "        text-align: right;\n",
       "    }\n",
       "</style>\n",
       "<table border=\"1\" class=\"dataframe\">\n",
       "  <thead>\n",
       "    <tr style=\"text-align: right;\">\n",
       "      <th></th>\n",
       "      <th>product</th>\n",
       "      <th>quantity_ordered</th>\n",
       "      <th>price_each</th>\n",
       "      <th>order_date</th>\n",
       "      <th>purchase_address_city</th>\n",
       "      <th>purchase_address_country</th>\n",
       "      <th>total_price</th>\n",
       "    </tr>\n",
       "  </thead>\n",
       "  <tbody>\n",
       "    <tr>\n",
       "      <th>0</th>\n",
       "      <td>HDD</td>\n",
       "      <td>3</td>\n",
       "      <td>61.03</td>\n",
       "      <td>2023-12-12</td>\n",
       "      <td>Chicago</td>\n",
       "      <td>United States</td>\n",
       "      <td>183.09</td>\n",
       "    </tr>\n",
       "    <tr>\n",
       "      <th>1</th>\n",
       "      <td>Keyboard</td>\n",
       "      <td>4</td>\n",
       "      <td>66.18</td>\n",
       "      <td>2024-07-21</td>\n",
       "      <td>Berlin</td>\n",
       "      <td>Germany</td>\n",
       "      <td>264.72</td>\n",
       "    </tr>\n",
       "    <tr>\n",
       "      <th>2</th>\n",
       "      <td>Case</td>\n",
       "      <td>8</td>\n",
       "      <td>308.57</td>\n",
       "      <td>2024-07-15</td>\n",
       "      <td>Mobile</td>\n",
       "      <td>United States</td>\n",
       "      <td>2,468.56</td>\n",
       "    </tr>\n",
       "    <tr>\n",
       "      <th>3</th>\n",
       "      <td>SSD</td>\n",
       "      <td>9</td>\n",
       "      <td>135.44</td>\n",
       "      <td>2024-02-14</td>\n",
       "      <td>Wilmington</td>\n",
       "      <td>United States</td>\n",
       "      <td>1,218.96</td>\n",
       "    </tr>\n",
       "    <tr>\n",
       "      <th>4</th>\n",
       "      <td>Wireless Adapter</td>\n",
       "      <td>2</td>\n",
       "      <td>339.28</td>\n",
       "      <td>2024-07-03</td>\n",
       "      <td>Dillenburg</td>\n",
       "      <td>Germany</td>\n",
       "      <td>678.56</td>\n",
       "    </tr>\n",
       "    <tr>\n",
       "      <th>6</th>\n",
       "      <td>Motherboard</td>\n",
       "      <td>5</td>\n",
       "      <td>183.58</td>\n",
       "      <td>2023-11-20</td>\n",
       "      <td>Oklahoma City</td>\n",
       "      <td>United States</td>\n",
       "      <td>917.90</td>\n",
       "    </tr>\n",
       "    <tr>\n",
       "      <th>7</th>\n",
       "      <td>Microphone</td>\n",
       "      <td>5</td>\n",
       "      <td>22.38</td>\n",
       "      <td>2023-12-25</td>\n",
       "      <td>San Jose</td>\n",
       "      <td>United States</td>\n",
       "      <td>111.90</td>\n",
       "    </tr>\n",
       "    <tr>\n",
       "      <th>8</th>\n",
       "      <td>Cooling Fan</td>\n",
       "      <td>3</td>\n",
       "      <td>123.03</td>\n",
       "      <td>2024-04-29</td>\n",
       "      <td>Dresden</td>\n",
       "      <td>Germany</td>\n",
       "      <td>369.09</td>\n",
       "    </tr>\n",
       "    <tr>\n",
       "      <th>9</th>\n",
       "      <td>Power Supply</td>\n",
       "      <td>2</td>\n",
       "      <td>21.14</td>\n",
       "      <td>2024-04-08</td>\n",
       "      <td>Pittsburgh</td>\n",
       "      <td>United States</td>\n",
       "      <td>42.28</td>\n",
       "    </tr>\n",
       "    <tr>\n",
       "      <th>10</th>\n",
       "      <td>Power Supply</td>\n",
       "      <td>7</td>\n",
       "      <td>146.25</td>\n",
       "      <td>2023-10-28</td>\n",
       "      <td>Denton</td>\n",
       "      <td>United States</td>\n",
       "      <td>1,023.75</td>\n",
       "    </tr>\n",
       "  </tbody>\n",
       "</table>\n",
       "</div>"
      ],
      "text/plain": [
       "             product  quantity_ordered  price_each order_date  \\\n",
       "0                HDD                 3       61.03 2023-12-12   \n",
       "1           Keyboard                 4       66.18 2024-07-21   \n",
       "2               Case                 8      308.57 2024-07-15   \n",
       "3                SSD                 9      135.44 2024-02-14   \n",
       "4   Wireless Adapter                 2      339.28 2024-07-03   \n",
       "6        Motherboard                 5      183.58 2023-11-20   \n",
       "7         Microphone                 5       22.38 2023-12-25   \n",
       "8        Cooling Fan                 3      123.03 2024-04-29   \n",
       "9       Power Supply                 2       21.14 2024-04-08   \n",
       "10      Power Supply                 7      146.25 2023-10-28   \n",
       "\n",
       "   purchase_address_city purchase_address_country  total_price  \n",
       "0                Chicago            United States       183.09  \n",
       "1                 Berlin                  Germany       264.72  \n",
       "2                 Mobile            United States     2,468.56  \n",
       "3             Wilmington            United States     1,218.96  \n",
       "4             Dillenburg                  Germany       678.56  \n",
       "6          Oklahoma City            United States       917.90  \n",
       "7               San Jose            United States       111.90  \n",
       "8                Dresden                  Germany       369.09  \n",
       "9             Pittsburgh            United States        42.28  \n",
       "10                Denton            United States     1,023.75  "
      ]
     },
     "execution_count": 368,
     "metadata": {},
     "output_type": "execute_result"
    }
   ],
   "source": [
    "sales_data_cleaned.head(10)"
   ]
  },
  {
   "cell_type": "code",
   "execution_count": 372,
   "metadata": {},
   "outputs": [
    {
     "data": {
      "text/html": [
       "<div>\n",
       "<style scoped>\n",
       "    .dataframe tbody tr th:only-of-type {\n",
       "        vertical-align: middle;\n",
       "    }\n",
       "\n",
       "    .dataframe tbody tr th {\n",
       "        vertical-align: top;\n",
       "    }\n",
       "\n",
       "    .dataframe thead th {\n",
       "        text-align: right;\n",
       "    }\n",
       "</style>\n",
       "<table border=\"1\" class=\"dataframe\">\n",
       "  <thead>\n",
       "    <tr style=\"text-align: right;\">\n",
       "      <th></th>\n",
       "      <th>quantity_ordered</th>\n",
       "      <th>price_each</th>\n",
       "      <th>total_price</th>\n",
       "    </tr>\n",
       "  </thead>\n",
       "  <tbody>\n",
       "    <tr>\n",
       "      <th>count</th>\n",
       "      <td>816.00</td>\n",
       "      <td>816.00</td>\n",
       "      <td>816.00</td>\n",
       "    </tr>\n",
       "    <tr>\n",
       "      <th>mean</th>\n",
       "      <td>5.44</td>\n",
       "      <td>204.51</td>\n",
       "      <td>1,124.81</td>\n",
       "    </tr>\n",
       "    <tr>\n",
       "      <th>std</th>\n",
       "      <td>2.59</td>\n",
       "      <td>110.04</td>\n",
       "      <td>846.21</td>\n",
       "    </tr>\n",
       "    <tr>\n",
       "      <th>min</th>\n",
       "      <td>1.00</td>\n",
       "      <td>20.85</td>\n",
       "      <td>23.42</td>\n",
       "    </tr>\n",
       "    <tr>\n",
       "      <th>25%</th>\n",
       "      <td>3.00</td>\n",
       "      <td>107.33</td>\n",
       "      <td>410.12</td>\n",
       "    </tr>\n",
       "    <tr>\n",
       "      <th>50%</th>\n",
       "      <td>5.00</td>\n",
       "      <td>199.46</td>\n",
       "      <td>922.45</td>\n",
       "    </tr>\n",
       "    <tr>\n",
       "      <th>75%</th>\n",
       "      <td>7.00</td>\n",
       "      <td>301.25</td>\n",
       "      <td>1,654.22</td>\n",
       "    </tr>\n",
       "    <tr>\n",
       "      <th>max</th>\n",
       "      <td>10.00</td>\n",
       "      <td>399.58</td>\n",
       "      <td>3,843.90</td>\n",
       "    </tr>\n",
       "  </tbody>\n",
       "</table>\n",
       "</div>"
      ],
      "text/plain": [
       "       quantity_ordered  price_each  total_price\n",
       "count            816.00      816.00       816.00\n",
       "mean               5.44      204.51     1,124.81\n",
       "std                2.59      110.04       846.21\n",
       "min                1.00       20.85        23.42\n",
       "25%                3.00      107.33       410.12\n",
       "50%                5.00      199.46       922.45\n",
       "75%                7.00      301.25     1,654.22\n",
       "max               10.00      399.58     3,843.90"
      ]
     },
     "execution_count": 372,
     "metadata": {},
     "output_type": "execute_result"
    }
   ],
   "source": [
    "sales_data_cleaned[['quantity_ordered', 'price_each', 'total_price']].describe()"
   ]
  },
  {
   "cell_type": "markdown",
   "metadata": {},
   "source": [
    "#### Exploratory data analysis"
   ]
  },
  {
   "cell_type": "code",
   "execution_count": 377,
   "metadata": {},
   "outputs": [
    {
     "data": {
      "text/plain": [
       "order_date\n",
       "1     88,376.63\n",
       "2     74,549.26\n",
       "3    105,567.01\n",
       "4     81,201.79\n",
       "5     83,657.22\n",
       "6     77,746.87\n",
       "7     63,713.37\n",
       "8     83,226.77\n",
       "9     75,822.16\n",
       "10    70,295.28\n",
       "11    61,962.14\n",
       "12    51,730.20\n",
       "Name: total_price, dtype: float64"
      ]
     },
     "execution_count": 377,
     "metadata": {},
     "output_type": "execute_result"
    }
   ],
   "source": [
    "sales_data_cleaned.groupby(sales_data_cleaned['order_date'].dt.month)['total_price'].sum()"
   ]
  },
  {
   "cell_type": "code",
   "execution_count": 371,
   "metadata": {},
   "outputs": [
    {
     "data": {
      "image/png": "[encoded data removed]",
      "text/plain": [
       "<Figure size 640x480 with 1 Axes>"
      ]
     },
     "metadata": {},
     "output_type": "display_data"
    }
   ],
   "source": [
    "sales_data_cleaned.groupby(sales_data_cleaned['order_date'].dt.month)['total_price'].sum().plot(kind='bar')\n",
    "plt.title('Total Revenue by Month')\n",
    "plt.xlabel('Month')\n",
    "plt.ylabel('Total Revenue')\n",
    "plt.show()\n"
   ]
  }
 ],
 "metadata": {
  "kernelspec": {
   "display_name": "Python 3",
   "language": "python",
   "name": "python3"
  },
  "language_info": {
   "codemirror_mode": {
    "name": "ipython",
    "version": 3
   },
   "file_extension": ".py",
   "mimetype": "text/x-python",
   "name": "python",
   "nbconvert_exporter": "python",
   "pygments_lexer": "ipython3",
   "version": "3.10.12"
  }
 },
 "nbformat": 4,
 "nbformat_minor": 2
}
