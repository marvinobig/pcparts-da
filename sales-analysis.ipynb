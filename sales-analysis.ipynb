{
 "cells": [
  {
   "cell_type": "code",
   "execution_count": 8,
   "metadata": {},
   "outputs": [],
   "source": [
    "import pandas as pd\n",
    "import seaborn as sns"
   ]
  },
  {
   "cell_type": "markdown",
   "metadata": {},
   "source": [
    "#### Import dataset"
   ]
  },
  {
   "cell_type": "code",
   "execution_count": 7,
   "metadata": {},
   "outputs": [],
   "source": [
    "sales_data = pd.read_csv(\"pc_parts_sales.csv\")"
   ]
  },
  {
   "cell_type": "markdown",
   "metadata": {},
   "source": [
    "#### Descriptive statistics"
   ]
  },
  {
   "cell_type": "code",
   "execution_count": 10,
   "metadata": {},
   "outputs": [
    {
     "data": {
      "text/html": [
       "<div>\n",
       "<style scoped>\n",
       "    .dataframe tbody tr th:only-of-type {\n",
       "        vertical-align: middle;\n",
       "    }\n",
       "\n",
       "    .dataframe tbody tr th {\n",
       "        vertical-align: top;\n",
       "    }\n",
       "\n",
       "    .dataframe thead th {\n",
       "        text-align: right;\n",
       "    }\n",
       "</style>\n",
       "<table border=\"1\" class=\"dataframe\">\n",
       "  <thead>\n",
       "    <tr style=\"text-align: right;\">\n",
       "      <th></th>\n",
       "      <th>order_id</th>\n",
       "      <th>product</th>\n",
       "      <th>quantity_ordered</th>\n",
       "      <th>price_each</th>\n",
       "      <th>order_date</th>\n",
       "      <th>purchase_address_city</th>\n",
       "      <th>purchase_address_country</th>\n",
       "    </tr>\n",
       "  </thead>\n",
       "  <tbody>\n",
       "    <tr>\n",
       "      <th>0</th>\n",
       "      <td>OP89504310</td>\n",
       "      <td>HDD</td>\n",
       "      <td>3.32</td>\n",
       "      <td>61.03</td>\n",
       "      <td>12/12/2023</td>\n",
       "      <td>Chicago</td>\n",
       "      <td>United States</td>\n",
       "    </tr>\n",
       "    <tr>\n",
       "      <th>1</th>\n",
       "      <td>IP83558271</td>\n",
       "      <td>Keyboard</td>\n",
       "      <td>4.35</td>\n",
       "      <td>66.18</td>\n",
       "      <td>07/21/2024</td>\n",
       "      <td>Berlin</td>\n",
       "      <td>Germany</td>\n",
       "    </tr>\n",
       "    <tr>\n",
       "      <th>2</th>\n",
       "      <td>FW46738968</td>\n",
       "      <td>Case</td>\n",
       "      <td>8.36</td>\n",
       "      <td>308.57</td>\n",
       "      <td>07/15/2024</td>\n",
       "      <td>Mobile</td>\n",
       "      <td>United States</td>\n",
       "    </tr>\n",
       "    <tr>\n",
       "      <th>3</th>\n",
       "      <td>HJ32275080</td>\n",
       "      <td>SSD</td>\n",
       "      <td>9.31</td>\n",
       "      <td>135.44</td>\n",
       "      <td>02/14/2024</td>\n",
       "      <td>Wilmington</td>\n",
       "      <td>United States</td>\n",
       "    </tr>\n",
       "    <tr>\n",
       "      <th>4</th>\n",
       "      <td>XC48442442</td>\n",
       "      <td>Wireless Adapter</td>\n",
       "      <td>1.89</td>\n",
       "      <td>339.28</td>\n",
       "      <td>07/03/2024</td>\n",
       "      <td>Dillenburg</td>\n",
       "      <td>Germany</td>\n",
       "    </tr>\n",
       "    <tr>\n",
       "      <th>5</th>\n",
       "      <td>XA53374264</td>\n",
       "      <td>Power Supply</td>\n",
       "      <td>9.23</td>\n",
       "      <td>NaN</td>\n",
       "      <td>07/12/2024</td>\n",
       "      <td>Carson City</td>\n",
       "      <td>United States</td>\n",
       "    </tr>\n",
       "    <tr>\n",
       "      <th>6</th>\n",
       "      <td>YA03838812</td>\n",
       "      <td>Motherboard</td>\n",
       "      <td>4.53</td>\n",
       "      <td>183.58</td>\n",
       "      <td>11/20/2023</td>\n",
       "      <td>Oklahoma City</td>\n",
       "      <td>United States</td>\n",
       "    </tr>\n",
       "    <tr>\n",
       "      <th>7</th>\n",
       "      <td>TJ99372180</td>\n",
       "      <td>Microphone</td>\n",
       "      <td>5.16</td>\n",
       "      <td>22.38</td>\n",
       "      <td>12/25/2023</td>\n",
       "      <td>San Jose</td>\n",
       "      <td>United States</td>\n",
       "    </tr>\n",
       "    <tr>\n",
       "      <th>8</th>\n",
       "      <td>HW73990535</td>\n",
       "      <td>Cooling Fan</td>\n",
       "      <td>2.73</td>\n",
       "      <td>123.03</td>\n",
       "      <td>04/29/2024</td>\n",
       "      <td>Dresden</td>\n",
       "      <td>Germany</td>\n",
       "    </tr>\n",
       "    <tr>\n",
       "      <th>9</th>\n",
       "      <td>CD90844685</td>\n",
       "      <td>Power Supply</td>\n",
       "      <td>1.54</td>\n",
       "      <td>21.14</td>\n",
       "      <td>04/08/2024</td>\n",
       "      <td>Pittsburgh</td>\n",
       "      <td>United States</td>\n",
       "    </tr>\n",
       "  </tbody>\n",
       "</table>\n",
       "</div>"
      ],
      "text/plain": [
       "     order_id           product  quantity_ordered  price_each  order_date  \\\n",
       "0  OP89504310               HDD              3.32       61.03  12/12/2023   \n",
       "1  IP83558271          Keyboard              4.35       66.18  07/21/2024   \n",
       "2  FW46738968              Case              8.36      308.57  07/15/2024   \n",
       "3  HJ32275080               SSD              9.31      135.44  02/14/2024   \n",
       "4  XC48442442  Wireless Adapter              1.89      339.28  07/03/2024   \n",
       "5  XA53374264      Power Supply              9.23         NaN  07/12/2024   \n",
       "6  YA03838812       Motherboard              4.53      183.58  11/20/2023   \n",
       "7  TJ99372180        Microphone              5.16       22.38  12/25/2023   \n",
       "8  HW73990535       Cooling Fan              2.73      123.03  04/29/2024   \n",
       "9  CD90844685      Power Supply              1.54       21.14  04/08/2024   \n",
       "\n",
       "  purchase_address_city purchase_address_country  \n",
       "0               Chicago            United States  \n",
       "1                Berlin                  Germany  \n",
       "2                Mobile            United States  \n",
       "3            Wilmington            United States  \n",
       "4            Dillenburg                  Germany  \n",
       "5           Carson City            United States  \n",
       "6         Oklahoma City            United States  \n",
       "7              San Jose            United States  \n",
       "8               Dresden                  Germany  \n",
       "9            Pittsburgh            United States  "
      ]
     },
     "execution_count": 10,
     "metadata": {},
     "output_type": "execute_result"
    }
   ],
   "source": [
    "sales_data.head(10)"
   ]
  },
  {
   "cell_type": "code",
   "execution_count": 11,
   "metadata": {},
   "outputs": [
    {
     "data": {
      "text/html": [
       "<div>\n",
       "<style scoped>\n",
       "    .dataframe tbody tr th:only-of-type {\n",
       "        vertical-align: middle;\n",
       "    }\n",
       "\n",
       "    .dataframe tbody tr th {\n",
       "        vertical-align: top;\n",
       "    }\n",
       "\n",
       "    .dataframe thead th {\n",
       "        text-align: right;\n",
       "    }\n",
       "</style>\n",
       "<table border=\"1\" class=\"dataframe\">\n",
       "  <thead>\n",
       "    <tr style=\"text-align: right;\">\n",
       "      <th></th>\n",
       "      <th>quantity_ordered</th>\n",
       "      <th>price_each</th>\n",
       "    </tr>\n",
       "  </thead>\n",
       "  <tbody>\n",
       "    <tr>\n",
       "      <th>count</th>\n",
       "      <td>1000.000000</td>\n",
       "      <td>927.000000</td>\n",
       "    </tr>\n",
       "    <tr>\n",
       "      <th>mean</th>\n",
       "      <td>5.484390</td>\n",
       "      <td>206.650863</td>\n",
       "    </tr>\n",
       "    <tr>\n",
       "      <th>std</th>\n",
       "      <td>2.569336</td>\n",
       "      <td>110.549861</td>\n",
       "    </tr>\n",
       "    <tr>\n",
       "      <th>min</th>\n",
       "      <td>1.030000</td>\n",
       "      <td>20.850000</td>\n",
       "    </tr>\n",
       "    <tr>\n",
       "      <th>25%</th>\n",
       "      <td>3.320000</td>\n",
       "      <td>109.865000</td>\n",
       "    </tr>\n",
       "    <tr>\n",
       "      <th>50%</th>\n",
       "      <td>5.450000</td>\n",
       "      <td>204.350000</td>\n",
       "    </tr>\n",
       "    <tr>\n",
       "      <th>75%</th>\n",
       "      <td>7.580000</td>\n",
       "      <td>305.525000</td>\n",
       "    </tr>\n",
       "    <tr>\n",
       "      <th>max</th>\n",
       "      <td>9.990000</td>\n",
       "      <td>399.580000</td>\n",
       "    </tr>\n",
       "  </tbody>\n",
       "</table>\n",
       "</div>"
      ],
      "text/plain": [
       "       quantity_ordered  price_each\n",
       "count       1000.000000  927.000000\n",
       "mean           5.484390  206.650863\n",
       "std            2.569336  110.549861\n",
       "min            1.030000   20.850000\n",
       "25%            3.320000  109.865000\n",
       "50%            5.450000  204.350000\n",
       "75%            7.580000  305.525000\n",
       "max            9.990000  399.580000"
      ]
     },
     "execution_count": 11,
     "metadata": {},
     "output_type": "execute_result"
    }
   ],
   "source": [
    "sales_data.describe()"
   ]
  },
  {
   "cell_type": "markdown",
   "metadata": {},
   "source": [
    "#### Data cleaning"
   ]
  },
  {
   "cell_type": "code",
   "execution_count": 36,
   "metadata": {},
   "outputs": [
    {
     "data": {
      "text/html": [
       "<div>\n",
       "<style scoped>\n",
       "    .dataframe tbody tr th:only-of-type {\n",
       "        vertical-align: middle;\n",
       "    }\n",
       "\n",
       "    .dataframe tbody tr th {\n",
       "        vertical-align: top;\n",
       "    }\n",
       "\n",
       "    .dataframe thead th {\n",
       "        text-align: right;\n",
       "    }\n",
       "</style>\n",
       "<table border=\"1\" class=\"dataframe\">\n",
       "  <thead>\n",
       "    <tr style=\"text-align: right;\">\n",
       "      <th></th>\n",
       "      <th>product</th>\n",
       "      <th>quantity_ordered</th>\n",
       "      <th>price_each</th>\n",
       "      <th>order_date</th>\n",
       "      <th>purchase_address_city</th>\n",
       "      <th>purchase_address_country</th>\n",
       "    </tr>\n",
       "  </thead>\n",
       "  <tbody>\n",
       "    <tr>\n",
       "      <th>0</th>\n",
       "      <td>HDD</td>\n",
       "      <td>3.32</td>\n",
       "      <td>61.03</td>\n",
       "      <td>12/12/2023</td>\n",
       "      <td>Chicago</td>\n",
       "      <td>United States</td>\n",
       "    </tr>\n",
       "    <tr>\n",
       "      <th>1</th>\n",
       "      <td>Keyboard</td>\n",
       "      <td>4.35</td>\n",
       "      <td>66.18</td>\n",
       "      <td>07/21/2024</td>\n",
       "      <td>Berlin</td>\n",
       "      <td>Germany</td>\n",
       "    </tr>\n",
       "    <tr>\n",
       "      <th>2</th>\n",
       "      <td>Case</td>\n",
       "      <td>8.36</td>\n",
       "      <td>308.57</td>\n",
       "      <td>07/15/2024</td>\n",
       "      <td>Mobile</td>\n",
       "      <td>United States</td>\n",
       "    </tr>\n",
       "    <tr>\n",
       "      <th>3</th>\n",
       "      <td>SSD</td>\n",
       "      <td>9.31</td>\n",
       "      <td>135.44</td>\n",
       "      <td>02/14/2024</td>\n",
       "      <td>Wilmington</td>\n",
       "      <td>United States</td>\n",
       "    </tr>\n",
       "  </tbody>\n",
       "</table>\n",
       "</div>"
      ],
      "text/plain": [
       "    product  quantity_ordered  price_each  order_date purchase_address_city  \\\n",
       "0       HDD              3.32       61.03  12/12/2023               Chicago   \n",
       "1  Keyboard              4.35       66.18  07/21/2024                Berlin   \n",
       "2      Case              8.36      308.57  07/15/2024                Mobile   \n",
       "3       SSD              9.31      135.44  02/14/2024            Wilmington   \n",
       "\n",
       "  purchase_address_country  \n",
       "0            United States  \n",
       "1                  Germany  \n",
       "2            United States  \n",
       "3            United States  "
      ]
     },
     "execution_count": 36,
     "metadata": {},
     "output_type": "execute_result"
    }
   ],
   "source": [
    "sales_data_cleaned = sales_data[['product', 'quantity_ordered', 'price_each', 'order_date', 'purchase_address_city', 'purchase_address_country']]\n",
    "sales_data.head(4)"
   ]
  },
  {
   "cell_type": "code",
   "execution_count": 37,
   "metadata": {},
   "outputs": [
    {
     "data": {
      "text/plain": [
       "product                      0\n",
       "quantity_ordered             0\n",
       "price_each                  73\n",
       "order_date                   0\n",
       "purchase_address_city       67\n",
       "purchase_address_country    54\n",
       "dtype: int64"
      ]
     },
     "execution_count": 37,
     "metadata": {},
     "output_type": "execute_result"
    }
   ],
   "source": [
    "sales_data_cleaned.isnull().sum()"
   ]
  },
  {
   "cell_type": "code",
   "execution_count": 40,
   "metadata": {},
   "outputs": [],
   "source": [
    "sales_data_cleaned.dropna(subset=['price_each'], inplace=True)"
   ]
  },
  {
   "cell_type": "code",
   "execution_count": 41,
   "metadata": {},
   "outputs": [
    {
     "data": {
      "text/plain": [
       "product                      0\n",
       "quantity_ordered             0\n",
       "price_each                   0\n",
       "order_date                   0\n",
       "purchase_address_city       62\n",
       "purchase_address_country    53\n",
       "dtype: int64"
      ]
     },
     "execution_count": 41,
     "metadata": {},
     "output_type": "execute_result"
    }
   ],
   "source": [
    "sales_data_cleaned.isnull().sum()"
   ]
  },
  {
   "cell_type": "code",
   "execution_count": null,
   "metadata": {},
   "outputs": [],
   "source": []
  }
 ],
 "metadata": {
  "kernelspec": {
   "display_name": "Python 3",
   "language": "python",
   "name": "python3"
  },
  "language_info": {
   "codemirror_mode": {
    "name": "ipython",
    "version": 3
   },
   "file_extension": ".py",
   "mimetype": "text/x-python",
   "name": "python",
   "nbconvert_exporter": "python",
   "pygments_lexer": "ipython3",
   "version": "3.10.12"
  }
 },
 "nbformat": 4,
 "nbformat_minor": 2
}
